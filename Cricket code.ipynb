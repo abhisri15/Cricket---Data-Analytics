{
  "nbformat": 4,
  "nbformat_minor": 0,
  "metadata": {
    "colab": {
      "provenance": []
    },
    "kernelspec": {
      "name": "python3",
      "display_name": "Python 3"
    },
    "language_info": {
      "name": "python"
    }
  },
  "cells": [
    {
      "cell_type": "code",
      "execution_count": null,
      "metadata": {
        "id": "nVZ_nFdv7oBr"
      },
      "outputs": [],
      "source": [
        "import pandas as pd\n",
        "import json"
      ]
    },
    {
      "cell_type": "markdown",
      "source": [
        "Match Results"
      ],
      "metadata": {
        "id": "8m6KkHgREHwV"
      }
    },
    {
      "cell_type": "code",
      "source": [
        "with open('/content/drive/MyDrive/Data Analytics /Cricket Project/t20_json_files/t20_wc_match_results.json') as f:\n",
        "  data = json.load(f)\n",
        "data"
      ],
      "metadata": {
        "id": "gl5K9Q6_8xc6"
      },
      "execution_count": null,
      "outputs": []
    },
    {
      "cell_type": "code",
      "source": [
        "df_match = pd.DataFrame(data[0]['matchSummary'])\n",
        "df_match"
      ],
      "metadata": {
        "id": "eJwd3Y_V89GD"
      },
      "execution_count": null,
      "outputs": []
    },
    {
      "cell_type": "code",
      "source": [
        "df_match.shape"
      ],
      "metadata": {
        "id": "WMylf70hCGBq"
      },
      "execution_count": null,
      "outputs": []
    },
    {
      "cell_type": "code",
      "source": [
        "df_match.rename({'scorecard':'match_id'}, axis=1, inplace=True)\n",
        "df_match"
      ],
      "metadata": {
        "id": "amP3ZWlECSg6"
      },
      "execution_count": null,
      "outputs": []
    },
    {
      "cell_type": "markdown",
      "source": [
        "Batting Summary"
      ],
      "metadata": {
        "id": "JWxz2TuBELsq"
      }
    },
    {
      "cell_type": "code",
      "source": [
        "with open('/content/drive/MyDrive/Data Analytics /Cricket Project/t20_json_files/t20_wc_batting_summary.json') as f:\n",
        "  data1 = json.load(f)\n",
        "\n",
        "  all_records = []\n",
        "\n",
        "  for rec in data1:\n",
        "    all_records.extend(rec['battingSummary'])\n",
        "\n",
        "df_batting = pd.DataFrame(all_records)\n",
        "df_batting"
      ],
      "metadata": {
        "id": "UHXVL8ZUD19y"
      },
      "execution_count": null,
      "outputs": []
    },
    {
      "cell_type": "code",
      "source": [
        "df_batting[\"out/not_out\"] = df_batting.dismissal.apply(lambda x: \"out\" if len(x)>0 else \"not_out\")\n",
        "df_batting"
      ],
      "metadata": {
        "id": "sUslmee-EPbb"
      },
      "execution_count": null,
      "outputs": []
    },
    {
      "cell_type": "code",
      "source": [
        "df_batting.drop(columns=[\"dismissal\"], inplace=True)\n",
        "df_batting.head(10)"
      ],
      "metadata": {
        "id": "KuZ6pQ74Hmy3"
      },
      "execution_count": null,
      "outputs": []
    },
    {
      "cell_type": "code",
      "source": [
        "df_batting"
      ],
      "metadata": {
        "id": "0L_PpBxcILb4"
      },
      "execution_count": null,
      "outputs": []
    },
    {
      "cell_type": "code",
      "source": [
        "df_batting['batsmanName'] = df_batting['batsmanName'].apply(lambda x: x.replace('â€', ''))\n",
        "df_batting['batsmanName'] = df_batting['batsmanName'].apply(lambda x: x.replace('\\xa0', ''))\n",
        "df_batting.head()"
      ],
      "metadata": {
        "id": "hTy_zF9zILu-"
      },
      "execution_count": null,
      "outputs": []
    },
    {
      "cell_type": "code",
      "source": [
        "match_ids_dict = {}\n",
        "\n",
        "for index, row in df_match.iterrows():\n",
        "    key1 = row['team1'] + ' Vs ' + row['team2']\n",
        "    key2 = row['team2'] + ' Vs ' + row['team1']\n",
        "    match_ids_dict[key1] = row['match_id']\n",
        "    match_ids_dict[key2] = row['match_id']"
      ],
      "metadata": {
        "id": "0jPbDYImIf01"
      },
      "execution_count": null,
      "outputs": []
    },
    {
      "cell_type": "code",
      "source": [
        "df_batting['match_id'] = df_batting['match'].map(match_ids_dict)\n",
        "df_batting.head()"
      ],
      "metadata": {
        "id": "Y8kwQTaSJaQG"
      },
      "execution_count": null,
      "outputs": []
    },
    {
      "cell_type": "code",
      "source": [
        "# df_batting.to_csv('t20_csv_files/fact_bating_summary.csv', index = False)  # to save the file as csv"
      ],
      "metadata": {
        "id": "f-KgcMjfJryy"
      },
      "execution_count": null,
      "outputs": []
    },
    {
      "cell_type": "markdown",
      "source": [
        "Bowling Summary"
      ],
      "metadata": {
        "id": "z0Kp1FsLKVHk"
      }
    },
    {
      "cell_type": "code",
      "source": [
        "with open('/content/drive/MyDrive/Data Analytics /Cricket Project/t20_json_files/t20_wc_bowling_summary.json') as f:\n",
        "    data2 = json.load(f)\n",
        "    all_records2 = []\n",
        "    for rec in data2:\n",
        "        all_records2.extend(rec['bowlingSummary'])\n",
        "all_records2[:2]"
      ],
      "metadata": {
        "id": "u4GV2swpKIeV"
      },
      "execution_count": null,
      "outputs": []
    },
    {
      "cell_type": "code",
      "source": [
        "df_bowling = pd.DataFrame(all_records2)\n",
        "print(df_bowling.shape)\n",
        "df_bowling.head()"
      ],
      "metadata": {
        "id": "xlvaoIMzKaOu"
      },
      "execution_count": null,
      "outputs": []
    },
    {
      "cell_type": "code",
      "source": [
        "df_bowling['match_id'] = df_bowling['match'].map(match_ids_dict)\n",
        "df_bowling.head()"
      ],
      "metadata": {
        "id": "lvh2w3fTKkZK"
      },
      "execution_count": null,
      "outputs": []
    },
    {
      "cell_type": "code",
      "source": [
        "# df_bowling.to_csv('t20_csv_files/fact_bowling_summary.csv', index = False) # save as csv"
      ],
      "metadata": {
        "id": "56aGMtANKmZ_"
      },
      "execution_count": null,
      "outputs": []
    },
    {
      "cell_type": "markdown",
      "source": [
        "Process Player Information\n"
      ],
      "metadata": {
        "id": "VVyOT8dJLPBw"
      }
    },
    {
      "cell_type": "code",
      "source": [
        "with open('/content/drive/MyDrive/Data Analytics /Cricket Project/t20_json_files/t20_wc_player_info.json') as f:\n",
        "    data3 = json.load(f)"
      ],
      "metadata": {
        "id": "tI5yFfu-KoJh"
      },
      "execution_count": null,
      "outputs": []
    },
    {
      "cell_type": "code",
      "source": [
        "df_players = pd.DataFrame(data3)\n",
        "\n",
        "print(df_players.shape)\n",
        "df_players.head(10)"
      ],
      "metadata": {
        "id": "MRtLApCYKuvN"
      },
      "execution_count": null,
      "outputs": []
    },
    {
      "cell_type": "code",
      "source": [
        "df_players['name'] = df_players['name'].apply(lambda x: x.replace('â€', ''))\n",
        "df_players['name'] = df_players['name'].apply(lambda x: x.replace('†', ''))\n",
        "df_players['name'] = df_players['name'].apply(lambda x: x.replace('\\xa0', ''))\n",
        "df_players.head(10)"
      ],
      "metadata": {
        "id": "UGP921_AKxo7"
      },
      "execution_count": null,
      "outputs": []
    },
    {
      "cell_type": "code",
      "source": [
        "df_players[df_players['team'] == 'India']"
      ],
      "metadata": {
        "id": "7z4leIe7KzrP"
      },
      "execution_count": null,
      "outputs": []
    },
    {
      "cell_type": "code",
      "source": [
        "# df_players.to_csv('t20_csv_files/dim_players_no_images.csv', index = False) # save as csv"
      ],
      "metadata": {
        "id": "wa2zI4dHK1k9"
      },
      "execution_count": 62,
      "outputs": []
    }
  ]
}